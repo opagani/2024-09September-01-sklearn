{
 "cells": [
  {
   "cell_type": "markdown",
   "metadata": {},
   "source": [
    "# Agenda\n",
    "\n",
    "1. What is machine learning?\n",
    "2. What is `sklearn`, and how does it fit into this world?\n",
    "3. Classification (iris)\n",
    "4. Building a model\n",
    "5. Fitting and predicting -- what do these mean?\n",
    "6. Testing our model using split-testing\n",
    "7. Testing our model is more sophisticated ways\n",
    "8. Building other models and testing them -- and comparing them"
   ]
  },
  {
   "cell_type": "markdown",
   "metadata": {},
   "source": [
    "# What is data science?\n",
    "\n",
    "I personally say that data science has three big parts:\n",
    "\n",
    "1. Data engineering -- getting the data from its original locations into a format that you can use in a serious, practical way.\n",
    "2. Data analytics -- take data that describes the past, and understand that past -- how many people bought my courses? How many people used my Web site? How many people, on Sunday at 12 noon, are buying my product? How many people, at a given time of day, are trying (unsuccessfully) to log into my system?\n",
    "3. Machine learning -- let's take data that we already have and use it to make predictions about the future. Machine learning has many, many uses and applications."
   ]
  },
  {
   "cell_type": "markdown",
   "metadata": {},
   "source": [
    "# Types of machine learning\n",
    "\n",
    "- Supervised learning\n",
    "    1. Classification -- given an item and several categories, how would we categorize this item?\n",
    "        - Spam or not spam?\n",
    "        - Insurance -- accept or reject?\n",
    "        - Credit-card applications and also purchases\n",
    "    2. Regression -- given some data, what number would we associate with it?\n",
    "        - How much do we think a certain stock will be worth?\n",
    "        - Predict scores?\n",
    "- Unsupervised learning\n",
    "    3. Clustering (Automatic classification)\n",
    "    4. Dimensionality reduction (Parameter simplification)"
   ]
  },
  {
   "cell_type": "markdown",
   "metadata": {
    "jp-MarkdownHeadingCollapsed": true
   },
   "source": [
    "# What is sklearn?\n",
    "\n",
    "Python's \"scipy stack\" includes a bunch of different packages:\n",
    "\n",
    "- NumPy, which provides us with fast, efficient numeric calculations\n",
    "- Pandas, which is an easier to use version of NumPy\n",
    "- SciPy, which provides us with a bunch of useful functionality for statistics, etc.\n",
    "- SciPy has the ability to use plugins, known as \"scikits,\" and one of those is scikit-learn, for machine learning.\n",
    "\n",
    "You can install those with `pip`:\n",
    "\n",
    "    pip install -U numpy pandas sklearn matplotlib"
   ]
  },
  {
   "cell_type": "markdown",
   "metadata": {},
   "source": [
    "# What will we do?\n",
    "\n",
    "- We'll get some data\n",
    "- We'll teach the computer which data goes into which category (supervised learning)\n",
    "- Then we'll show some new data to the computer\n",
    "- It'll put that data into the right category"
   ]
  },
  {
   "cell_type": "markdown",
   "metadata": {},
   "source": [
    "# Iris dataset\n",
    "\n",
    "The most famous dataset in data science is the \"iris\" data set. It contains measurements of 150 different types of irises (purple flowers). Each flower has been measured in four different ways:\n",
    "\n",
    "- Petal length + width \n",
    "- Sepal length + width\n",
    "\n",
    "Based on these four measurements, can we predict which of three types of irises we have?"
   ]
  },
  {
   "cell_type": "markdown",
   "metadata": {},
   "source": [
    "# Terminology\n",
    "\n",
    "We're going to create a model. That model will be trained with our iris data. Then we'll be able to ask the model for a prediction.\n",
    "\n",
    "- Inputs to the model can be called X, independent variables, inputs.\n",
    "- Outputs from the model can be called y, dependent variables, outputs, target.\n",
    "\n",
    "We're going to take some iris data, and train a model with it."
   ]
  },
  {
   "cell_type": "code",
   "execution_count": 1,
   "metadata": {},
   "outputs": [],
   "source": [
    "# sklearn comes with a bunch of sample data sets\n",
    "\n",
    "from sklearn.datasets import load_iris   # this imports a function that will then load the data set\n",
    "\n",
    "iris = load_iris()    # now I've loaded the data set into the \"iris\" variable"
   ]
  },
  {
   "cell_type": "code",
   "execution_count": 3,
   "metadata": {},
   "outputs": [
    {
     "data": {
      "text/plain": [
       "sklearn.utils._bunch.Bunch"
      ]
     },
     "execution_count": 3,
     "metadata": {},
     "output_type": "execute_result"
    }
   ],
   "source": [
    "# what does it contain?\n",
    "\n",
    "type(iris)   # this is a Bunch object, which is designed for sklearn sample data usage. It's basically a module with standardized attribute names"
   ]
  },
  {
   "cell_type": "code",
   "execution_count": 4,
   "metadata": {},
   "outputs": [
    {
     "data": {
      "text/plain": [
       "['DESCR',\n",
       " 'data',\n",
       " 'data_module',\n",
       " 'feature_names',\n",
       " 'filename',\n",
       " 'frame',\n",
       " 'target',\n",
       " 'target_names']"
      ]
     },
     "execution_count": 4,
     "metadata": {},
     "output_type": "execute_result"
    }
   ],
   "source": [
    "dir(iris)   # what attributes are in this bunch?"
   ]
  },
  {
   "cell_type": "code",
   "execution_count": null,
   "metadata": {},
   "outputs": [],
   "source": []
  }
 ],
 "metadata": {
  "kernelspec": {
   "display_name": "Python 3 (ipykernel)",
   "language": "python",
   "name": "python3"
  },
  "language_info": {
   "codemirror_mode": {
    "name": "ipython",
    "version": 3
   },
   "file_extension": ".py",
   "mimetype": "text/x-python",
   "name": "python",
   "nbconvert_exporter": "python",
   "pygments_lexer": "ipython3",
   "version": "3.12.5"
  }
 },
 "nbformat": 4,
 "nbformat_minor": 4
}
