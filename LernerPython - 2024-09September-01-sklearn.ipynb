{
 "cells": [
  {
   "cell_type": "markdown",
   "metadata": {},
   "source": [
    "# Agenda\n",
    "\n",
    "1. What is machine learning?\n",
    "2. What is `sklearn`, and how does it fit into this world?\n",
    "3. Classification (iris)\n",
    "4. Building a model\n",
    "5. Fitting and predicting -- what do these mean?\n",
    "6. Testing our model using split-testing\n",
    "7. Testing our model is more sophisticated ways\n",
    "8. Building other models and testing them -- and comparing them"
   ]
  },
  {
   "cell_type": "markdown",
   "metadata": {},
   "source": [
    "# What is data science?\n",
    "\n",
    "I personally say that data science has three big parts:\n",
    "\n",
    "1. Data engineering -- getting the data from its original locations into a format that you can use in a serious, practical way.\n",
    "2. Data analytics -- take data that describes the past, and understand that past -- how many people bought my courses? How many people used my Web site? How many people, on Sunday at 12 noon, are buying my product? How many people, at a given time of day, are trying (unsuccessfully) to log into my system?\n",
    "3. Machine learning -- let's take data that we already have and use it to make predictions about the future. Machine learning has many, many uses and applications."
   ]
  },
  {
   "cell_type": "markdown",
   "metadata": {},
   "source": [
    "# Types of machine learning\n",
    "\n",
    "- Supervised learning\n",
    "    1. Classification -- given an item and several categories, how would we categorize this item?\n",
    "        - Spam or not spam?\n",
    "        - Insurance -- accept or reject?\n",
    "        - Credit-card applications and also purchases\n",
    "    2. Regression -- given some data, what number would we associate with it?\n",
    "        - How much do we think a certain stock will be worth?\n",
    "        - Predict scores?\n",
    "- Unsupervised learning\n",
    "    3. Clustering (Automatic classification)\n",
    "    4. Dimensionality reduction (Parameter simplification)"
   ]
  },
  {
   "cell_type": "markdown",
   "metadata": {
    "jp-MarkdownHeadingCollapsed": true
   },
   "source": [
    "# What is sklearn?\n",
    "\n",
    "Python's \"scipy stack\" includes a bunch of different packages:\n",
    "\n",
    "- NumPy, which provides us with fast, efficient numeric calculations\n",
    "- Pandas, which is an easier to use version of NumPy\n",
    "- SciPy, which provides us with a bunch of useful functionality for statistics, etc.\n",
    "- SciPy has the ability to use plugins, known as \"scikits,\" and one of those is scikit-learn, for machine learning.\n",
    "\n",
    "You can install those with `pip`:\n",
    "\n",
    "    pip install -U numpy pandas sklearn matplotlib"
   ]
  },
  {
   "cell_type": "markdown",
   "metadata": {},
   "source": [
    "# What will we do?\n",
    "\n",
    "- We'll get some data\n",
    "- We'll teach the computer which data goes into which category (supervised learning)\n",
    "- Then we'll show some new data to the computer\n",
    "- It'll put that data into the right category"
   ]
  },
  {
   "cell_type": "markdown",
   "metadata": {},
   "source": [
    "# Iris dataset\n",
    "\n",
    "The most famous dataset in data science is the \"iris\" data set. It contains measurements of 150 different types of irises (purple flowers). Each flower has been measured in four different ways:\n",
    "\n",
    "- Petal length + width \n",
    "- Sepal length + width\n",
    "\n",
    "Based on these four measurements, can we predict which of three types of irises we have?"
   ]
  },
  {
   "cell_type": "markdown",
   "metadata": {},
   "source": [
    "# Terminology\n",
    "\n",
    "We're going to create a model. That model will be trained with our iris data. Then we'll be able to ask the model for a prediction.\n",
    "\n",
    "- Inputs to the model can be called X, independent variables, inputs.\n",
    "- Outputs from the model can be called y, dependent variables, outputs, target.\n",
    "\n",
    "We're going to take some iris data, and train a model with it."
   ]
  },
  {
   "cell_type": "code",
   "execution_count": 1,
   "metadata": {},
   "outputs": [],
   "source": [
    "# sklearn comes with a bunch of sample data sets\n",
    "\n",
    "from sklearn.datasets import load_iris   # this imports a function that will then load the data set\n",
    "\n",
    "iris = load_iris()    # now I've loaded the data set into the \"iris\" variable"
   ]
  },
  {
   "cell_type": "code",
   "execution_count": 3,
   "metadata": {},
   "outputs": [
    {
     "data": {
      "text/plain": [
       "sklearn.utils._bunch.Bunch"
      ]
     },
     "execution_count": 3,
     "metadata": {},
     "output_type": "execute_result"
    }
   ],
   "source": [
    "# what does it contain?\n",
    "\n",
    "type(iris)   # this is a Bunch object, which is designed for sklearn sample data usage. It's basically a module with standardized attribute names"
   ]
  },
  {
   "cell_type": "code",
   "execution_count": 4,
   "metadata": {},
   "outputs": [
    {
     "data": {
      "text/plain": [
       "['DESCR',\n",
       " 'data',\n",
       " 'data_module',\n",
       " 'feature_names',\n",
       " 'filename',\n",
       " 'frame',\n",
       " 'target',\n",
       " 'target_names']"
      ]
     },
     "execution_count": 4,
     "metadata": {},
     "output_type": "execute_result"
    }
   ],
   "source": [
    "dir(iris)   # what attributes are in this bunch?"
   ]
  },
  {
   "cell_type": "code",
   "execution_count": 5,
   "metadata": {},
   "outputs": [
    {
     "name": "stdout",
     "output_type": "stream",
     "text": [
      ".. _iris_dataset:\n",
      "\n",
      "Iris plants dataset\n",
      "--------------------\n",
      "\n",
      "**Data Set Characteristics:**\n",
      "\n",
      ":Number of Instances: 150 (50 in each of three classes)\n",
      ":Number of Attributes: 4 numeric, predictive attributes and the class\n",
      ":Attribute Information:\n",
      "    - sepal length in cm\n",
      "    - sepal width in cm\n",
      "    - petal length in cm\n",
      "    - petal width in cm\n",
      "    - class:\n",
      "            - Iris-Setosa\n",
      "            - Iris-Versicolour\n",
      "            - Iris-Virginica\n",
      "\n",
      ":Summary Statistics:\n",
      "\n",
      "============== ==== ==== ======= ===== ====================\n",
      "                Min  Max   Mean    SD   Class Correlation\n",
      "============== ==== ==== ======= ===== ====================\n",
      "sepal length:   4.3  7.9   5.84   0.83    0.7826\n",
      "sepal width:    2.0  4.4   3.05   0.43   -0.4194\n",
      "petal length:   1.0  6.9   3.76   1.76    0.9490  (high!)\n",
      "petal width:    0.1  2.5   1.20   0.76    0.9565  (high!)\n",
      "============== ==== ==== ======= ===== ====================\n",
      "\n",
      ":Missing Attribute Values: None\n",
      ":Class Distribution: 33.3% for each of 3 classes.\n",
      ":Creator: R.A. Fisher\n",
      ":Donor: Michael Marshall (MARSHALL%PLU@io.arc.nasa.gov)\n",
      ":Date: July, 1988\n",
      "\n",
      "The famous Iris database, first used by Sir R.A. Fisher. The dataset is taken\n",
      "from Fisher's paper. Note that it's the same as in R, but not as in the UCI\n",
      "Machine Learning Repository, which has two wrong data points.\n",
      "\n",
      "This is perhaps the best known database to be found in the\n",
      "pattern recognition literature.  Fisher's paper is a classic in the field and\n",
      "is referenced frequently to this day.  (See Duda & Hart, for example.)  The\n",
      "data set contains 3 classes of 50 instances each, where each class refers to a\n",
      "type of iris plant.  One class is linearly separable from the other 2; the\n",
      "latter are NOT linearly separable from each other.\n",
      "\n",
      ".. dropdown:: References\n",
      "\n",
      "  - Fisher, R.A. \"The use of multiple measurements in taxonomic problems\"\n",
      "    Annual Eugenics, 7, Part II, 179-188 (1936); also in \"Contributions to\n",
      "    Mathematical Statistics\" (John Wiley, NY, 1950).\n",
      "  - Duda, R.O., & Hart, P.E. (1973) Pattern Classification and Scene Analysis.\n",
      "    (Q327.D83) John Wiley & Sons.  ISBN 0-471-22361-1.  See page 218.\n",
      "  - Dasarathy, B.V. (1980) \"Nosing Around the Neighborhood: A New System\n",
      "    Structure and Classification Rule for Recognition in Partially Exposed\n",
      "    Environments\".  IEEE Transactions on Pattern Analysis and Machine\n",
      "    Intelligence, Vol. PAMI-2, No. 1, 67-71.\n",
      "  - Gates, G.W. (1972) \"The Reduced Nearest Neighbor Rule\".  IEEE Transactions\n",
      "    on Information Theory, May 1972, 431-433.\n",
      "  - See also: 1988 MLC Proceedings, 54-64.  Cheeseman et al\"s AUTOCLASS II\n",
      "    conceptual clustering system finds 3 classes in the data.\n",
      "  - Many, many more ...\n",
      "\n"
     ]
    }
   ],
   "source": [
    "# let's look at the description of this model\n",
    "\n",
    "print(iris.DESCR)"
   ]
  },
  {
   "cell_type": "code",
   "execution_count": null,
   "metadata": {},
   "outputs": [],
   "source": []
  }
 ],
 "metadata": {
  "kernelspec": {
   "display_name": "Python 3 (ipykernel)",
   "language": "python",
   "name": "python3"
  },
  "language_info": {
   "codemirror_mode": {
    "name": "ipython",
    "version": 3
   },
   "file_extension": ".py",
   "mimetype": "text/x-python",
   "name": "python",
   "nbconvert_exporter": "python",
   "pygments_lexer": "ipython3",
   "version": "3.12.5"
  }
 },
 "nbformat": 4,
 "nbformat_minor": 4
}
